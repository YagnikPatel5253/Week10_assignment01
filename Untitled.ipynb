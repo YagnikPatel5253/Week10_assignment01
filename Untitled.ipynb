{
 "cells": [
  {
   "cell_type": "markdown",
   "id": "58092f8b-900a-4587-86f2-704fceeb3780",
   "metadata": {},
   "source": [
    "1. What is multithreading in python? why is it used? Name the module used to handle threads in python"
   ]
  },
  {
   "cell_type": "raw",
   "id": "f4efb838-dea5-4c55-a4dd-04caa0c7230a",
   "metadata": {},
   "source": [
    "Multithreading in Python:\n",
    "\n",
    "Multithreading is a programming concept where multiple threads (small units of a process) run concurrently within a single process. Each thread represents a separate flow of control, and they share the same resources such as memory space but run independently. In Python, the threading module is commonly used to implement multithreading.\n",
    "\n",
    "\n",
    "Why Multithreading is Used:\n",
    "\n",
    "Concurrency: Multithreading allows multiple threads to execute simultaneously, improving the overall concurrency of a program. This is especially useful for tasks that can be performed independently and don't necessarily need to be executed sequentially.\n",
    "\n",
    "Responsive User Interfaces: In graphical user interface (GUI) applications, multithreading can be used to keep the user interface responsive while performing background tasks. This prevents the user interface from freezing during resource-intensive operations.\n",
    "\n",
    "Parallelism: Although Python's Global Interpreter Lock (GIL) limits true parallelism for CPU-bound tasks, multithreading can still be beneficial for I/O-bound tasks, where threads can perform I/O operations concurrently without being hindered by the GIL.\n",
    "\n",
    "Resource Sharing: Threads within the same process share the same memory space, making it easy to share data and resources between them. This can simplify communication between different parts of a program.\n",
    "\n",
    "Module for Handling Threads in Python:\n",
    "The 'threading' module is used."
   ]
  },
  {
   "cell_type": "markdown",
   "id": "b2608ba8-ba3d-42ce-8802-63b41c5278c6",
   "metadata": {},
   "source": [
    "1) Why threading module used? write the use of the following functions\n",
    "1. activeCount() \n",
    "2. currentThread()\n",
    "3. enumerate()"
   ]
  },
  {
   "cell_type": "raw",
   "id": "ea1a44b4-0b31-4225-86d5-33c04ca228fd",
   "metadata": {},
   "source": [
    "The threading module in Python is used for creating and managing threads in a multithreaded environment. Threading allows you to run multiple threads (smaller units of a program) concurrently, enabling better utilization of system resources and potentially improving performance in certain scenarios."
   ]
  },
  {
   "cell_type": "raw",
   "id": "69c26de9-c732-452d-985a-4d74f83e4ad9",
   "metadata": {},
   "source": [
    "activeCount():\n",
    "\n",
    "Use: This function is used to get the number of Thread objects currently alive. A Thread object is considered alive from the moment it is created until it is terminated."
   ]
  },
  {
   "cell_type": "raw",
   "id": "4adee093-fa3e-4804-84bd-c4b57ed334b5",
   "metadata": {},
   "source": [
    "currentThread():\n",
    "\n",
    "Use: This function returns the current Thread object, corresponding to the caller's thread of control. It allows you to obtain information about the currently executing thread."
   ]
  },
  {
   "cell_type": "raw",
   "id": "a926ab86-24c2-4b44-85f9-081d5f021898",
   "metadata": {},
   "source": [
    "enumerate():\n",
    "\n",
    "Use: This function returns a list of all Thread objects currently alive. It is useful for obtaining a list of all threads currently running in the program."
   ]
  },
  {
   "cell_type": "code",
   "execution_count": 4,
   "id": "0af1549b-3c61-4cf4-918e-d99e68835423",
   "metadata": {},
   "outputs": [
    {
     "name": "stderr",
     "output_type": "stream",
     "text": [
      "/tmp/ipykernel_133/1950541097.py:18: DeprecationWarning: activeCount() is deprecated, use active_count() instead\n",
      "  active_threads = threading.activeCount()\n"
     ]
    },
    {
     "name": "stdout",
     "output_type": "stream",
     "text": [
      "Number of active threads: 10\n",
      "Current thread: MainThread\n",
      "All active threads: [<_MainThread(MainThread, started 140717662885696)>, <Thread(IOPub, started daemon 140717592356416)>, <Heartbeat(Heartbeat, started daemon 140717583963712)>, <Thread(Thread-3 (_watch_pipe_fd), started daemon 140717355693632)>, <Thread(Thread-4 (_watch_pipe_fd), started daemon 140717347300928)>, <ControlThread(Control, started daemon 140717338908224)>, <HistorySavingThread(IPythonHistorySavingThread, started 140717330515520)>, <ParentPollerUnix(Thread-2, started daemon 140717322122816)>, <Thread(Thread-1, started 140717305337408)>, <Thread(Thread-2, started 140717313730112)>]\n",
      "Thread Thread-1: 0\n",
      "Thread Thread-2: 0\n",
      "Thread Thread-1: 1Thread Thread-2: 1\n",
      "\n",
      "Thread Thread-2: 2\n",
      "Thread Thread-1: 2\n",
      "Thread Thread-2: 3\n",
      "Thread Thread-1: 3\n",
      "Thread Thread-2: 4\n",
      "Thread Thread-1: 4\n"
     ]
    }
   ],
   "source": [
    "import threading\n",
    "import time\n",
    "\n",
    "def print_numbers():\n",
    "    for i in range(5):\n",
    "        time.sleep(1)\n",
    "        print(f\"Thread {threading.current_thread().name}: {i}\")\n",
    "\n",
    "# Create two threads\n",
    "thread1 = threading.Thread(target=print_numbers, name=\"Thread-1\")\n",
    "thread2 = threading.Thread(target=print_numbers, name=\"Thread-2\")\n",
    "\n",
    "# Start the threads\n",
    "thread1.start()\n",
    "thread2.start()\n",
    "\n",
    "# Display the number of active threads\n",
    "active_threads = threading.activeCount()\n",
    "print(f\"Number of active threads: {active_threads}\")\n",
    "\n",
    "# Display information about the current thread\n",
    "current_thread = threading.current_thread()\n",
    "print(f\"Current thread: {current_thread.name}\")\n",
    "\n",
    "# Display a list of all active threads\n",
    "all_threads = threading.enumerate()\n",
    "print(f\"All active threads: {all_threads}\")\n",
    "\n",
    "# Wait for both threads to finish\n",
    "thread1.join()\n",
    "thread2.join()\n"
   ]
  },
  {
   "cell_type": "raw",
   "id": "859a5825-11bd-42f9-ae6c-1c53841c1130",
   "metadata": {},
   "source": [
    "In this example, we create two threads (thread1 and thread2) that both execute the print_numbers function. We then use the activeCount(), currentThread(), and enumerate() functions to display information about the active threads."
   ]
  },
  {
   "cell_type": "markdown",
   "id": "f5063478-3261-43fd-a1a8-99cef7f7d6b1",
   "metadata": {},
   "source": [
    "3. Explain the following functions\n",
    " run()\n",
    " start()\n",
    " join()\n",
    " isAlive()"
   ]
  },
  {
   "cell_type": "raw",
   "id": "7628b9e0-8884-49e9-a334-8f570b171ff1",
   "metadata": {},
   "source": [
    "run():\n",
    "Use: The run() method represents the entry point for the thread's activity. It is meant to be overridden in a subclass."
   ]
  },
  {
   "cell_type": "code",
   "execution_count": 5,
   "id": "06835f97-c8ad-4edf-8f46-cdc971d5860c",
   "metadata": {},
   "outputs": [
    {
     "name": "stdout",
     "output_type": "stream",
     "text": [
      "Thread Thread-9: 0\n",
      "Thread Thread-9: 1\n",
      "Thread Thread-9: 2\n",
      "Thread Thread-9: 3\n",
      "Thread Thread-9: 4\n"
     ]
    }
   ],
   "source": [
    "import threading\n",
    "\n",
    "class MyThread(threading.Thread):\n",
    "    def run(self):\n",
    "        for i in range(5):\n",
    "            print(f\"Thread {self.name}: {i}\")\n",
    "\n",
    "# Create an instance of the custom thread class\n",
    "my_thread = MyThread()\n",
    "\n",
    "# Call run directly (not recommended for creating new threads)\n",
    "my_thread.run()\n"
   ]
  },
  {
   "cell_type": "raw",
   "id": "9a8b2753-090c-4a70-b381-586e00ddfbe5",
   "metadata": {},
   "source": [
    "start():\n",
    "Use: The start() method is used to start a new thread's activity. It initiates the run() method in a separate thread of control."
   ]
  },
  {
   "cell_type": "code",
   "execution_count": 6,
   "id": "11db7ea5-6e6c-484f-91f4-ebad8d8d8cb8",
   "metadata": {},
   "outputs": [
    {
     "name": "stdout",
     "output_type": "stream",
     "text": [
      "Thread MyThread: 0\n",
      "Thread MyThread: 1\n",
      "Thread MyThread: 2\n",
      "Thread MyThread: 3\n",
      "Thread MyThread: 4\n"
     ]
    }
   ],
   "source": [
    "import threading\n",
    "\n",
    "def print_numbers():\n",
    "    for i in range(5):\n",
    "        print(f\"Thread {threading.current_thread().name}: {i}\")\n",
    "\n",
    "# Create a thread and start it\n",
    "my_thread = threading.Thread(target=print_numbers, name=\"MyThread\")\n",
    "my_thread.start()\n"
   ]
  },
  {
   "cell_type": "raw",
   "id": "06f0000c-6446-43f6-a785-974da1c4ece5",
   "metadata": {},
   "source": [
    "join():\n",
    "Use: The join() method is used to wait for the thread to complete its execution. It blocks the calling thread until the thread whose join() method is called completes."
   ]
  },
  {
   "cell_type": "code",
   "execution_count": 7,
   "id": "c862e55a-c0ec-4c77-a5a8-a659bbdafdb2",
   "metadata": {},
   "outputs": [
    {
     "name": "stdout",
     "output_type": "stream",
     "text": [
      "Thread MyThread: 0\n",
      "Thread MyThread: 1\n",
      "Thread MyThread: 2\n",
      "Thread MyThread: 3\n",
      "Thread MyThread: 4\n"
     ]
    }
   ],
   "source": [
    "import threading\n",
    "import time\n",
    "\n",
    "def print_numbers():\n",
    "    for i in range(5):\n",
    "        time.sleep(1)\n",
    "        print(f\"Thread {threading.current_thread().name}: {i}\")\n",
    "\n",
    "# Create a thread and start it\n",
    "my_thread = threading.Thread(target=print_numbers, name=\"MyThread\")\n",
    "my_thread.start()\n",
    "\n",
    "# Wait for the thread to finish\n",
    "my_thread.join()\n"
   ]
  },
  {
   "cell_type": "raw",
   "id": "e79e35a5-46bd-424f-8c00-3161428a61b9",
   "metadata": {},
   "source": [
    "isAlive():\n",
    "Use: The isAlive() method returns True if the thread is alive (i.e., it has been started and has not yet terminated), and False otherwise. It is a way to check the status of a thread."
   ]
  },
  {
   "cell_type": "code",
   "execution_count": 9,
   "id": "0f067100-d49a-4be2-99ac-735b660975a1",
   "metadata": {},
   "outputs": [
    {
     "name": "stdout",
     "output_type": "stream",
     "text": [
      "MyThread is still alive.\n",
      "Thread MyThread is running!\n"
     ]
    }
   ],
   "source": [
    "import threading\n",
    "import time\n",
    "\n",
    "def my_function():\n",
    "    time.sleep(2)\n",
    "    print(f\"Thread {threading.current_thread().name} is running!\")\n",
    "\n",
    "# Create and start a thread\n",
    "my_thread = threading.Thread(target=my_function, name=\"MyThread\")\n",
    "my_thread.start()\n",
    "\n",
    "# Check if the thread is alive\n",
    "if my_thread.is_alive():  # Corrected attribute name\n",
    "    print(f\"{my_thread.name} is still alive.\")\n",
    "else:\n",
    "    print(f\"{my_thread.name} has finished.\")\n",
    "\n",
    "# Wait for the thread to complete\n",
    "my_thread.join()\n"
   ]
  },
  {
   "cell_type": "markdown",
   "id": "01a9c486-4f8f-44a1-905c-4da0489d2f18",
   "metadata": {},
   "source": [
    "4. Write a python program to create two threads. Thread one must print the list of squares and thread"
   ]
  },
  {
   "cell_type": "code",
   "execution_count": 10,
   "id": "7dfb77a9-bc2b-4bc4-ac87-ab50a0d616f4",
   "metadata": {},
   "outputs": [
    {
     "name": "stdout",
     "output_type": "stream",
     "text": [
      "Square of 1: 1\n",
      "Square of 2: 4\n",
      "Square of 3: 9\n",
      "Square of 4: 16\n",
      "Square of 5: 25\n",
      "Cube of 1: 1\n",
      "Cube of 2: 8\n",
      "Cube of 3: 27\n",
      "Cube of 4: 64\n",
      "Cube of 5: 125\n"
     ]
    }
   ],
   "source": [
    "import threading\n",
    "\n",
    "def print_squares():\n",
    "    for i in range(1, 6):\n",
    "        print(f\"Square of {i}: {i*i}\")\n",
    "\n",
    "def print_cubes():\n",
    "    for i in range(1, 6):\n",
    "        print(f\"Cube of {i}: {i*i*i}\")\n",
    "\n",
    "# Create two threads\n",
    "thread_squares = threading.Thread(target=print_squares, name=\"Thread-Squares\")\n",
    "thread_cubes = threading.Thread(target=print_cubes, name=\"Thread-Cubes\")\n",
    "\n",
    "# Start the threads\n",
    "thread_squares.start()\n",
    "thread_cubes.start()\n",
    "\n",
    "# Wait for both threads to finish\n",
    "thread_squares.join()\n",
    "thread_cubes.join()\n"
   ]
  },
  {
   "cell_type": "markdown",
   "id": "5485347a-db09-4d63-a8e9-6377220f3e27",
   "metadata": {},
   "source": [
    "5. State advantages and disadvantages of multithreading"
   ]
  },
  {
   "cell_type": "raw",
   "id": "a034d3ec-75dc-4aa3-b27c-ed8bbaa5d5db",
   "metadata": {},
   "source": [
    "Advantages of Multithreading:\n",
    "Improved Performance:\n",
    "\n",
    "Multithreading can lead to improved performance by utilizing multiple CPU cores or processors. This is especially beneficial for tasks that can be parallelized, as different threads can execute simultaneously.\n",
    "Responsive User Interface:\n",
    "\n",
    "Multithreading is commonly used in graphical user interfaces (GUIs) to keep the application responsive. For example, one thread can handle user input and respond to events, while another thread performs background tasks.\n",
    "Efficient Resource Utilization:\n",
    "\n",
    "Threads share the same resources within a process, leading to more efficient use of memory space and resources compared to running multiple independent processes.\n",
    "Task Decomposition:\n",
    "\n",
    "Complex tasks can be decomposed into smaller, manageable threads, making the code modular and easier to understand.\n",
    "Concurrency:\n",
    "\n",
    "Threads allow multiple operations to progress concurrently, enabling better responsiveness and throughput in applications.\n",
    "\n",
    "Disadvantages of Multithreading:\n",
    "Complexity and Synchronization:\n",
    "\n",
    "Multithreaded programming introduces complexity, especially when dealing with shared resources. Proper synchronization mechanisms (like locks) are required to avoid race conditions and data corruption.\n",
    "Deadlocks and Race Conditions:\n",
    "\n",
    "Multithreading can introduce issues such as deadlocks (situations where two or more threads are unable to proceed) and race conditions (unpredictable outcomes due to simultaneous access to shared data).\n",
    "Debugging Challenges:\n",
    "\n",
    "Debugging multithreaded applications is more challenging than single-threaded ones. Issues may arise intermittently and can be difficult to reproduce.\n",
    "Increased Resource Consumption:\n",
    "\n",
    "While threads share resources, they also introduce overhead due to the need for synchronization and coordination. In some cases, managing multiple threads may result in increased resource consumption.\n",
    "Platform Dependency:\n",
    "\n",
    "Multithreading implementations and behavior can vary across different operating systems and platforms, making code less portable."
   ]
  },
  {
   "cell_type": "markdown",
   "id": "de2a24a7-ffc9-4e6c-86d7-6df0d512b492",
   "metadata": {},
   "source": [
    "6. Explain deadlocks and race conditions."
   ]
  },
  {
   "cell_type": "raw",
   "id": "ea4df51d-d849-486b-a6e1-61196dea7214",
   "metadata": {},
   "source": [
    "Deadlocks:\n",
    "A deadlock is a situation in which two or more threads are unable to proceed because each is waiting for the other to release a resource. This creates a circular waiting condition where no thread can make progress. Deadlocks can occur when multiple threads lock resources in different orders."
   ]
  },
  {
   "cell_type": "code",
   "execution_count": 11,
   "id": "10c6bc79-6990-4ab4-a766-27166e3b9278",
   "metadata": {},
   "outputs": [
    {
     "name": "stdout",
     "output_type": "stream",
     "text": [
      "Thread One acquired resource A\n",
      "Thread One acquired resource B\n",
      "Thread Two acquired resource B\n",
      "Thread Two acquired resource A\n"
     ]
    }
   ],
   "source": [
    "import threading\n",
    "\n",
    "# Shared resources\n",
    "resource_a = threading.Lock()\n",
    "resource_b = threading.Lock()\n",
    "\n",
    "def thread_one():\n",
    "    with resource_a:\n",
    "        print(\"Thread One acquired resource A\")\n",
    "        with resource_b:\n",
    "            print(\"Thread One acquired resource B\")\n",
    "\n",
    "def thread_two():\n",
    "    with resource_b:\n",
    "        print(\"Thread Two acquired resource B\")\n",
    "        with resource_a:\n",
    "            print(\"Thread Two acquired resource A\")\n",
    "\n",
    "# Create and start two threads\n",
    "t1 = threading.Thread(target=thread_one)\n",
    "t2 = threading.Thread(target=thread_two)\n",
    "\n",
    "t1.start()\n",
    "t2.start()\n",
    "\n",
    "# Wait for both threads to finish\n",
    "t1.join()\n",
    "t2.join()\n"
   ]
  },
  {
   "cell_type": "raw",
   "id": "6f423d44-ebc7-4c91-8f5b-d315738227bd",
   "metadata": {},
   "source": [
    "Race Conditions:\n",
    "A race condition is a situation where the behavior of a program depends on the relative timing of events, such as the order in which threads are scheduled to run. Race conditions occur when multiple threads access shared data concurrently, and at least one of them modifies the data."
   ]
  },
  {
   "cell_type": "code",
   "execution_count": 12,
   "id": "cb95d1f6-9e44-44c6-81c0-ef9bc5621224",
   "metadata": {},
   "outputs": [
    {
     "name": "stdout",
     "output_type": "stream",
     "text": [
      "Final counter value: 2000000\n"
     ]
    }
   ],
   "source": [
    "import threading\n",
    "\n",
    "# Shared variable\n",
    "counter = 0\n",
    "\n",
    "def increment_counter():\n",
    "    global counter\n",
    "    for _ in range(1000000):\n",
    "        counter += 1\n",
    "\n",
    "# Create and start two threads\n",
    "t1 = threading.Thread(target=increment_counter)\n",
    "t2 = threading.Thread(target=increment_counter)\n",
    "\n",
    "t1.start()\n",
    "t2.start()\n",
    "\n",
    "# Wait for both threads to finish\n",
    "t1.join()\n",
    "t2.join()\n",
    "\n",
    "print(\"Final counter value:\", counter)\n"
   ]
  },
  {
   "cell_type": "code",
   "execution_count": null,
   "id": "d607acc0-af67-46dc-821d-2188803b76fc",
   "metadata": {},
   "outputs": [],
   "source": []
  }
 ],
 "metadata": {
  "kernelspec": {
   "display_name": "Python 3 (ipykernel)",
   "language": "python",
   "name": "python3"
  },
  "language_info": {
   "codemirror_mode": {
    "name": "ipython",
    "version": 3
   },
   "file_extension": ".py",
   "mimetype": "text/x-python",
   "name": "python",
   "nbconvert_exporter": "python",
   "pygments_lexer": "ipython3",
   "version": "3.10.8"
  }
 },
 "nbformat": 4,
 "nbformat_minor": 5
}
